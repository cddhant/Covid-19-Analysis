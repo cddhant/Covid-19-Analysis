{
 "cells": [
  {
   "cell_type": "markdown",
   "metadata": {},
   "source": [
    "<b> DSBDA Mini Project </b>\n",
    "\n",
    "<b> Problem Statement : </b>  <br>\n",
    "Use the covid_vaccine_statewise.csv dataset from kaggle.com and perform the following analytics:<br>\n",
    "a. Describe the dataset <br>\n",
    "b. Number of persons state wise vaccinated for first dose in India <br>\n",
    "c. Number of persons state wise vaccinated for second dose in India<br>\n",
    "d. Number of Males vaccinated<br>\n",
    "e. Number of females vaccinated<br>"
   ]
  },
  {
   "cell_type": "markdown",
   "metadata": {},
   "source": [
    "### <b> Importing Libraries"
   ]
  },
  {
   "cell_type": "code",
   "execution_count": 1,
   "metadata": {},
   "outputs": [],
   "source": [
    "import numpy as np\n",
    "import pandas as pd\n",
    "import matplotlib.pyplot as plt\n",
    "import seaborn as sns\n",
    "import datetime"
   ]
  },
  {
   "cell_type": "markdown",
   "metadata": {},
   "source": [
    "### <b> Importing Dataset"
   ]
  },
  {
   "cell_type": "code",
   "execution_count": 2,
   "metadata": {},
   "outputs": [],
   "source": [
    "coviddf = pd.read_csv('covid_vaccine_statewise.csv')"
   ]
  },
  {
   "cell_type": "markdown",
   "metadata": {},
   "source": [
    "### <b> Describing Dataset"
   ]
  },
  {
   "cell_type": "code",
   "execution_count": 3,
   "metadata": {},
   "outputs": [
    {
     "data": {
      "text/html": [
       "<div>\n",
       "<style scoped>\n",
       "    .dataframe tbody tr th:only-of-type {\n",
       "        vertical-align: middle;\n",
       "    }\n",
       "\n",
       "    .dataframe tbody tr th {\n",
       "        vertical-align: top;\n",
       "    }\n",
       "\n",
       "    .dataframe thead th {\n",
       "        text-align: right;\n",
       "    }\n",
       "</style>\n",
       "<table border=\"1\" class=\"dataframe\">\n",
       "  <thead>\n",
       "    <tr style=\"text-align: right;\">\n",
       "      <th></th>\n",
       "      <th>Updated On</th>\n",
       "      <th>State</th>\n",
       "      <th>Total Doses Administered</th>\n",
       "      <th>Sessions</th>\n",
       "      <th>Sites</th>\n",
       "      <th>First Dose Administered</th>\n",
       "      <th>Second Dose Administered</th>\n",
       "      <th>Male (Doses Administered)</th>\n",
       "      <th>Female (Doses Administered)</th>\n",
       "      <th>Transgender (Doses Administered)</th>\n",
       "      <th>...</th>\n",
       "      <th>18-44 Years (Doses Administered)</th>\n",
       "      <th>45-60 Years (Doses Administered)</th>\n",
       "      <th>60+ Years (Doses Administered)</th>\n",
       "      <th>18-44 Years(Individuals Vaccinated)</th>\n",
       "      <th>45-60 Years(Individuals Vaccinated)</th>\n",
       "      <th>60+ Years(Individuals Vaccinated)</th>\n",
       "      <th>Male(Individuals Vaccinated)</th>\n",
       "      <th>Female(Individuals Vaccinated)</th>\n",
       "      <th>Transgender(Individuals Vaccinated)</th>\n",
       "      <th>Total Individuals Vaccinated</th>\n",
       "    </tr>\n",
       "  </thead>\n",
       "  <tbody>\n",
       "    <tr>\n",
       "      <th>0</th>\n",
       "      <td>16-01-2021</td>\n",
       "      <td>Andaman and Nicobar Islands</td>\n",
       "      <td>23.0</td>\n",
       "      <td>2.0</td>\n",
       "      <td>2.0</td>\n",
       "      <td>23.0</td>\n",
       "      <td>0.0</td>\n",
       "      <td>12.0</td>\n",
       "      <td>11.0</td>\n",
       "      <td>0.0</td>\n",
       "      <td>...</td>\n",
       "      <td>NaN</td>\n",
       "      <td>NaN</td>\n",
       "      <td>NaN</td>\n",
       "      <td>NaN</td>\n",
       "      <td>NaN</td>\n",
       "      <td>NaN</td>\n",
       "      <td>NaN</td>\n",
       "      <td>NaN</td>\n",
       "      <td>NaN</td>\n",
       "      <td>23.0</td>\n",
       "    </tr>\n",
       "    <tr>\n",
       "      <th>1</th>\n",
       "      <td>17-01-2021</td>\n",
       "      <td>Andaman and Nicobar Islands</td>\n",
       "      <td>23.0</td>\n",
       "      <td>2.0</td>\n",
       "      <td>2.0</td>\n",
       "      <td>23.0</td>\n",
       "      <td>0.0</td>\n",
       "      <td>12.0</td>\n",
       "      <td>11.0</td>\n",
       "      <td>0.0</td>\n",
       "      <td>...</td>\n",
       "      <td>NaN</td>\n",
       "      <td>NaN</td>\n",
       "      <td>NaN</td>\n",
       "      <td>NaN</td>\n",
       "      <td>NaN</td>\n",
       "      <td>NaN</td>\n",
       "      <td>NaN</td>\n",
       "      <td>NaN</td>\n",
       "      <td>NaN</td>\n",
       "      <td>23.0</td>\n",
       "    </tr>\n",
       "    <tr>\n",
       "      <th>2</th>\n",
       "      <td>18-01-2021</td>\n",
       "      <td>Andaman and Nicobar Islands</td>\n",
       "      <td>42.0</td>\n",
       "      <td>9.0</td>\n",
       "      <td>2.0</td>\n",
       "      <td>42.0</td>\n",
       "      <td>0.0</td>\n",
       "      <td>29.0</td>\n",
       "      <td>13.0</td>\n",
       "      <td>0.0</td>\n",
       "      <td>...</td>\n",
       "      <td>NaN</td>\n",
       "      <td>NaN</td>\n",
       "      <td>NaN</td>\n",
       "      <td>NaN</td>\n",
       "      <td>NaN</td>\n",
       "      <td>NaN</td>\n",
       "      <td>NaN</td>\n",
       "      <td>NaN</td>\n",
       "      <td>NaN</td>\n",
       "      <td>42.0</td>\n",
       "    </tr>\n",
       "    <tr>\n",
       "      <th>3</th>\n",
       "      <td>19-01-2021</td>\n",
       "      <td>Andaman and Nicobar Islands</td>\n",
       "      <td>89.0</td>\n",
       "      <td>12.0</td>\n",
       "      <td>2.0</td>\n",
       "      <td>89.0</td>\n",
       "      <td>0.0</td>\n",
       "      <td>53.0</td>\n",
       "      <td>36.0</td>\n",
       "      <td>0.0</td>\n",
       "      <td>...</td>\n",
       "      <td>NaN</td>\n",
       "      <td>NaN</td>\n",
       "      <td>NaN</td>\n",
       "      <td>NaN</td>\n",
       "      <td>NaN</td>\n",
       "      <td>NaN</td>\n",
       "      <td>NaN</td>\n",
       "      <td>NaN</td>\n",
       "      <td>NaN</td>\n",
       "      <td>89.0</td>\n",
       "    </tr>\n",
       "    <tr>\n",
       "      <th>4</th>\n",
       "      <td>20-01-2021</td>\n",
       "      <td>Andaman and Nicobar Islands</td>\n",
       "      <td>124.0</td>\n",
       "      <td>16.0</td>\n",
       "      <td>3.0</td>\n",
       "      <td>124.0</td>\n",
       "      <td>0.0</td>\n",
       "      <td>67.0</td>\n",
       "      <td>57.0</td>\n",
       "      <td>0.0</td>\n",
       "      <td>...</td>\n",
       "      <td>NaN</td>\n",
       "      <td>NaN</td>\n",
       "      <td>NaN</td>\n",
       "      <td>NaN</td>\n",
       "      <td>NaN</td>\n",
       "      <td>NaN</td>\n",
       "      <td>NaN</td>\n",
       "      <td>NaN</td>\n",
       "      <td>NaN</td>\n",
       "      <td>124.0</td>\n",
       "    </tr>\n",
       "  </tbody>\n",
       "</table>\n",
       "<p>5 rows × 24 columns</p>\n",
       "</div>"
      ],
      "text/plain": [
       "   Updated On                        State  Total Doses Administered  \\\n",
       "0  16-01-2021  Andaman and Nicobar Islands                      23.0   \n",
       "1  17-01-2021  Andaman and Nicobar Islands                      23.0   \n",
       "2  18-01-2021  Andaman and Nicobar Islands                      42.0   \n",
       "3  19-01-2021  Andaman and Nicobar Islands                      89.0   \n",
       "4  20-01-2021  Andaman and Nicobar Islands                     124.0   \n",
       "\n",
       "   Sessions   Sites   First Dose Administered  Second Dose Administered  \\\n",
       "0       2.0      2.0                     23.0                       0.0   \n",
       "1       2.0      2.0                     23.0                       0.0   \n",
       "2       9.0      2.0                     42.0                       0.0   \n",
       "3      12.0      2.0                     89.0                       0.0   \n",
       "4      16.0      3.0                    124.0                       0.0   \n",
       "\n",
       "   Male (Doses Administered)  Female (Doses Administered)  \\\n",
       "0                       12.0                         11.0   \n",
       "1                       12.0                         11.0   \n",
       "2                       29.0                         13.0   \n",
       "3                       53.0                         36.0   \n",
       "4                       67.0                         57.0   \n",
       "\n",
       "   Transgender (Doses Administered)  ...  18-44 Years (Doses Administered)  \\\n",
       "0                               0.0  ...                               NaN   \n",
       "1                               0.0  ...                               NaN   \n",
       "2                               0.0  ...                               NaN   \n",
       "3                               0.0  ...                               NaN   \n",
       "4                               0.0  ...                               NaN   \n",
       "\n",
       "   45-60 Years (Doses Administered)  60+ Years (Doses Administered)  \\\n",
       "0                               NaN                             NaN   \n",
       "1                               NaN                             NaN   \n",
       "2                               NaN                             NaN   \n",
       "3                               NaN                             NaN   \n",
       "4                               NaN                             NaN   \n",
       "\n",
       "   18-44 Years(Individuals Vaccinated)  45-60 Years(Individuals Vaccinated)  \\\n",
       "0                                  NaN                                  NaN   \n",
       "1                                  NaN                                  NaN   \n",
       "2                                  NaN                                  NaN   \n",
       "3                                  NaN                                  NaN   \n",
       "4                                  NaN                                  NaN   \n",
       "\n",
       "   60+ Years(Individuals Vaccinated)  Male(Individuals Vaccinated)  \\\n",
       "0                                NaN                           NaN   \n",
       "1                                NaN                           NaN   \n",
       "2                                NaN                           NaN   \n",
       "3                                NaN                           NaN   \n",
       "4                                NaN                           NaN   \n",
       "\n",
       "   Female(Individuals Vaccinated)  Transgender(Individuals Vaccinated)  \\\n",
       "0                             NaN                                  NaN   \n",
       "1                             NaN                                  NaN   \n",
       "2                             NaN                                  NaN   \n",
       "3                             NaN                                  NaN   \n",
       "4                             NaN                                  NaN   \n",
       "\n",
       "   Total Individuals Vaccinated  \n",
       "0                          23.0  \n",
       "1                          23.0  \n",
       "2                          42.0  \n",
       "3                          89.0  \n",
       "4                         124.0  \n",
       "\n",
       "[5 rows x 24 columns]"
      ]
     },
     "execution_count": 3,
     "metadata": {},
     "output_type": "execute_result"
    }
   ],
   "source": [
    "coviddf.head()"
   ]
  },
  {
   "cell_type": "code",
   "execution_count": 4,
   "metadata": {},
   "outputs": [
    {
     "data": {
      "text/plain": [
       "Index(['Updated On', 'State', 'Total Doses Administered', 'Sessions',\n",
       "       ' Sites ', 'First Dose Administered', 'Second Dose Administered',\n",
       "       'Male (Doses Administered)', 'Female (Doses Administered)',\n",
       "       'Transgender (Doses Administered)', ' Covaxin (Doses Administered)',\n",
       "       'CoviShield (Doses Administered)', 'Sputnik V (Doses Administered)',\n",
       "       'AEFI', '18-44 Years (Doses Administered)',\n",
       "       '45-60 Years (Doses Administered)', '60+ Years (Doses Administered)',\n",
       "       '18-44 Years(Individuals Vaccinated)',\n",
       "       '45-60 Years(Individuals Vaccinated)',\n",
       "       '60+ Years(Individuals Vaccinated)', 'Male(Individuals Vaccinated)',\n",
       "       'Female(Individuals Vaccinated)', 'Transgender(Individuals Vaccinated)',\n",
       "       'Total Individuals Vaccinated'],\n",
       "      dtype='object')"
      ]
     },
     "execution_count": 4,
     "metadata": {},
     "output_type": "execute_result"
    }
   ],
   "source": [
    "coviddf.columns"
   ]
  },
  {
   "cell_type": "code",
   "execution_count": 5,
   "metadata": {},
   "outputs": [
    {
     "name": "stdout",
     "output_type": "stream",
     "text": [
      "<class 'pandas.core.frame.DataFrame'>\n",
      "RangeIndex: 7633 entries, 0 to 7632\n",
      "Data columns (total 24 columns):\n",
      " #   Column                               Non-Null Count  Dtype  \n",
      "---  ------                               --------------  -----  \n",
      " 0   Updated On                           7633 non-null   object \n",
      " 1   State                                7633 non-null   object \n",
      " 2   Total Doses Administered             7415 non-null   float64\n",
      " 3   Sessions                             7415 non-null   float64\n",
      " 4    Sites                               7415 non-null   float64\n",
      " 5   First Dose Administered              7415 non-null   float64\n",
      " 6   Second Dose Administered             7415 non-null   float64\n",
      " 7   Male (Doses Administered)            7415 non-null   float64\n",
      " 8   Female (Doses Administered)          7415 non-null   float64\n",
      " 9   Transgender (Doses Administered)     7415 non-null   float64\n",
      " 10   Covaxin (Doses Administered)        7415 non-null   float64\n",
      " 11  CoviShield (Doses Administered)      7415 non-null   float64\n",
      " 12  Sputnik V (Doses Administered)       2914 non-null   float64\n",
      " 13  AEFI                                 5291 non-null   float64\n",
      " 14  18-44 Years (Doses Administered)     1656 non-null   float64\n",
      " 15  45-60 Years (Doses Administered)     1656 non-null   float64\n",
      " 16  60+ Years (Doses Administered)       1656 non-null   float64\n",
      " 17  18-44 Years(Individuals Vaccinated)  3632 non-null   float64\n",
      " 18  45-60 Years(Individuals Vaccinated)  3633 non-null   float64\n",
      " 19  60+ Years(Individuals Vaccinated)    3633 non-null   float64\n",
      " 20  Male(Individuals Vaccinated)         0 non-null      float64\n",
      " 21  Female(Individuals Vaccinated)       0 non-null      float64\n",
      " 22  Transgender(Individuals Vaccinated)  0 non-null      float64\n",
      " 23  Total Individuals Vaccinated         5759 non-null   float64\n",
      "dtypes: float64(22), object(2)\n",
      "memory usage: 1.4+ MB\n"
     ]
    }
   ],
   "source": [
    "coviddf.info()"
   ]
  },
  {
   "cell_type": "markdown",
   "metadata": {},
   "source": [
    "### Dropping Unwanted Columns"
   ]
  },
  {
   "cell_type": "code",
   "execution_count": 6,
   "metadata": {},
   "outputs": [
    {
     "data": {
      "text/html": [
       "<div>\n",
       "<style scoped>\n",
       "    .dataframe tbody tr th:only-of-type {\n",
       "        vertical-align: middle;\n",
       "    }\n",
       "\n",
       "    .dataframe tbody tr th {\n",
       "        vertical-align: top;\n",
       "    }\n",
       "\n",
       "    .dataframe thead th {\n",
       "        text-align: right;\n",
       "    }\n",
       "</style>\n",
       "<table border=\"1\" class=\"dataframe\">\n",
       "  <thead>\n",
       "    <tr style=\"text-align: right;\">\n",
       "      <th></th>\n",
       "      <th>Updated On</th>\n",
       "      <th>State</th>\n",
       "      <th>Total Doses Administered</th>\n",
       "      <th>Sessions</th>\n",
       "      <th>Sites</th>\n",
       "      <th>First Dose Administered</th>\n",
       "      <th>Second Dose Administered</th>\n",
       "      <th>Male (Doses Administered)</th>\n",
       "      <th>Female (Doses Administered)</th>\n",
       "      <th>Transgender (Doses Administered)</th>\n",
       "      <th>...</th>\n",
       "      <th>18-44 Years (Doses Administered)</th>\n",
       "      <th>45-60 Years (Doses Administered)</th>\n",
       "      <th>60+ Years (Doses Administered)</th>\n",
       "      <th>18-44 Years(Individuals Vaccinated)</th>\n",
       "      <th>45-60 Years(Individuals Vaccinated)</th>\n",
       "      <th>60+ Years(Individuals Vaccinated)</th>\n",
       "      <th>Male(Individuals Vaccinated)</th>\n",
       "      <th>Female(Individuals Vaccinated)</th>\n",
       "      <th>Transgender(Individuals Vaccinated)</th>\n",
       "      <th>Total Individuals Vaccinated</th>\n",
       "    </tr>\n",
       "  </thead>\n",
       "  <tbody>\n",
       "    <tr>\n",
       "      <th>0</th>\n",
       "      <td>16-01-2021</td>\n",
       "      <td>Andaman and Nicobar Islands</td>\n",
       "      <td>23.0</td>\n",
       "      <td>2.0</td>\n",
       "      <td>2.0</td>\n",
       "      <td>23.0</td>\n",
       "      <td>0.0</td>\n",
       "      <td>12.0</td>\n",
       "      <td>11.0</td>\n",
       "      <td>0.0</td>\n",
       "      <td>...</td>\n",
       "      <td>NaN</td>\n",
       "      <td>NaN</td>\n",
       "      <td>NaN</td>\n",
       "      <td>NaN</td>\n",
       "      <td>NaN</td>\n",
       "      <td>NaN</td>\n",
       "      <td>NaN</td>\n",
       "      <td>NaN</td>\n",
       "      <td>NaN</td>\n",
       "      <td>23.0</td>\n",
       "    </tr>\n",
       "    <tr>\n",
       "      <th>1</th>\n",
       "      <td>17-01-2021</td>\n",
       "      <td>Andaman and Nicobar Islands</td>\n",
       "      <td>23.0</td>\n",
       "      <td>2.0</td>\n",
       "      <td>2.0</td>\n",
       "      <td>23.0</td>\n",
       "      <td>0.0</td>\n",
       "      <td>12.0</td>\n",
       "      <td>11.0</td>\n",
       "      <td>0.0</td>\n",
       "      <td>...</td>\n",
       "      <td>NaN</td>\n",
       "      <td>NaN</td>\n",
       "      <td>NaN</td>\n",
       "      <td>NaN</td>\n",
       "      <td>NaN</td>\n",
       "      <td>NaN</td>\n",
       "      <td>NaN</td>\n",
       "      <td>NaN</td>\n",
       "      <td>NaN</td>\n",
       "      <td>23.0</td>\n",
       "    </tr>\n",
       "    <tr>\n",
       "      <th>2</th>\n",
       "      <td>18-01-2021</td>\n",
       "      <td>Andaman and Nicobar Islands</td>\n",
       "      <td>42.0</td>\n",
       "      <td>9.0</td>\n",
       "      <td>2.0</td>\n",
       "      <td>42.0</td>\n",
       "      <td>0.0</td>\n",
       "      <td>29.0</td>\n",
       "      <td>13.0</td>\n",
       "      <td>0.0</td>\n",
       "      <td>...</td>\n",
       "      <td>NaN</td>\n",
       "      <td>NaN</td>\n",
       "      <td>NaN</td>\n",
       "      <td>NaN</td>\n",
       "      <td>NaN</td>\n",
       "      <td>NaN</td>\n",
       "      <td>NaN</td>\n",
       "      <td>NaN</td>\n",
       "      <td>NaN</td>\n",
       "      <td>42.0</td>\n",
       "    </tr>\n",
       "    <tr>\n",
       "      <th>3</th>\n",
       "      <td>19-01-2021</td>\n",
       "      <td>Andaman and Nicobar Islands</td>\n",
       "      <td>89.0</td>\n",
       "      <td>12.0</td>\n",
       "      <td>2.0</td>\n",
       "      <td>89.0</td>\n",
       "      <td>0.0</td>\n",
       "      <td>53.0</td>\n",
       "      <td>36.0</td>\n",
       "      <td>0.0</td>\n",
       "      <td>...</td>\n",
       "      <td>NaN</td>\n",
       "      <td>NaN</td>\n",
       "      <td>NaN</td>\n",
       "      <td>NaN</td>\n",
       "      <td>NaN</td>\n",
       "      <td>NaN</td>\n",
       "      <td>NaN</td>\n",
       "      <td>NaN</td>\n",
       "      <td>NaN</td>\n",
       "      <td>89.0</td>\n",
       "    </tr>\n",
       "    <tr>\n",
       "      <th>4</th>\n",
       "      <td>20-01-2021</td>\n",
       "      <td>Andaman and Nicobar Islands</td>\n",
       "      <td>124.0</td>\n",
       "      <td>16.0</td>\n",
       "      <td>3.0</td>\n",
       "      <td>124.0</td>\n",
       "      <td>0.0</td>\n",
       "      <td>67.0</td>\n",
       "      <td>57.0</td>\n",
       "      <td>0.0</td>\n",
       "      <td>...</td>\n",
       "      <td>NaN</td>\n",
       "      <td>NaN</td>\n",
       "      <td>NaN</td>\n",
       "      <td>NaN</td>\n",
       "      <td>NaN</td>\n",
       "      <td>NaN</td>\n",
       "      <td>NaN</td>\n",
       "      <td>NaN</td>\n",
       "      <td>NaN</td>\n",
       "      <td>124.0</td>\n",
       "    </tr>\n",
       "  </tbody>\n",
       "</table>\n",
       "<p>5 rows × 24 columns</p>\n",
       "</div>"
      ],
      "text/plain": [
       "   Updated On                        State  Total Doses Administered  \\\n",
       "0  16-01-2021  Andaman and Nicobar Islands                      23.0   \n",
       "1  17-01-2021  Andaman and Nicobar Islands                      23.0   \n",
       "2  18-01-2021  Andaman and Nicobar Islands                      42.0   \n",
       "3  19-01-2021  Andaman and Nicobar Islands                      89.0   \n",
       "4  20-01-2021  Andaman and Nicobar Islands                     124.0   \n",
       "\n",
       "   Sessions   Sites   First Dose Administered  Second Dose Administered  \\\n",
       "0       2.0      2.0                     23.0                       0.0   \n",
       "1       2.0      2.0                     23.0                       0.0   \n",
       "2       9.0      2.0                     42.0                       0.0   \n",
       "3      12.0      2.0                     89.0                       0.0   \n",
       "4      16.0      3.0                    124.0                       0.0   \n",
       "\n",
       "   Male (Doses Administered)  Female (Doses Administered)  \\\n",
       "0                       12.0                         11.0   \n",
       "1                       12.0                         11.0   \n",
       "2                       29.0                         13.0   \n",
       "3                       53.0                         36.0   \n",
       "4                       67.0                         57.0   \n",
       "\n",
       "   Transgender (Doses Administered)  ...  18-44 Years (Doses Administered)  \\\n",
       "0                               0.0  ...                               NaN   \n",
       "1                               0.0  ...                               NaN   \n",
       "2                               0.0  ...                               NaN   \n",
       "3                               0.0  ...                               NaN   \n",
       "4                               0.0  ...                               NaN   \n",
       "\n",
       "   45-60 Years (Doses Administered)  60+ Years (Doses Administered)  \\\n",
       "0                               NaN                             NaN   \n",
       "1                               NaN                             NaN   \n",
       "2                               NaN                             NaN   \n",
       "3                               NaN                             NaN   \n",
       "4                               NaN                             NaN   \n",
       "\n",
       "   18-44 Years(Individuals Vaccinated)  45-60 Years(Individuals Vaccinated)  \\\n",
       "0                                  NaN                                  NaN   \n",
       "1                                  NaN                                  NaN   \n",
       "2                                  NaN                                  NaN   \n",
       "3                                  NaN                                  NaN   \n",
       "4                                  NaN                                  NaN   \n",
       "\n",
       "   60+ Years(Individuals Vaccinated)  Male(Individuals Vaccinated)  \\\n",
       "0                                NaN                           NaN   \n",
       "1                                NaN                           NaN   \n",
       "2                                NaN                           NaN   \n",
       "3                                NaN                           NaN   \n",
       "4                                NaN                           NaN   \n",
       "\n",
       "   Female(Individuals Vaccinated)  Transgender(Individuals Vaccinated)  \\\n",
       "0                             NaN                                  NaN   \n",
       "1                             NaN                                  NaN   \n",
       "2                             NaN                                  NaN   \n",
       "3                             NaN                                  NaN   \n",
       "4                             NaN                                  NaN   \n",
       "\n",
       "   Total Individuals Vaccinated  \n",
       "0                          23.0  \n",
       "1                          23.0  \n",
       "2                          42.0  \n",
       "3                          89.0  \n",
       "4                         124.0  \n",
       "\n",
       "[5 rows x 24 columns]"
      ]
     },
     "execution_count": 6,
     "metadata": {},
     "output_type": "execute_result"
    }
   ],
   "source": [
    "coviddf.head()"
   ]
  },
  {
   "cell_type": "code",
   "execution_count": 7,
   "metadata": {},
   "outputs": [],
   "source": [
    "coviddf = coviddf[[\"Updated On\", \"State\", \"First Dose Administered\", \"Second Dose Administered\", \"Male (Doses Administered)\", \"Female (Doses Administered)\", \"Total Individuals Vaccinated\"]]"
   ]
  },
  {
   "cell_type": "code",
   "execution_count": 8,
   "metadata": {},
   "outputs": [
    {
     "data": {
      "text/html": [
       "<div>\n",
       "<style scoped>\n",
       "    .dataframe tbody tr th:only-of-type {\n",
       "        vertical-align: middle;\n",
       "    }\n",
       "\n",
       "    .dataframe tbody tr th {\n",
       "        vertical-align: top;\n",
       "    }\n",
       "\n",
       "    .dataframe thead th {\n",
       "        text-align: right;\n",
       "    }\n",
       "</style>\n",
       "<table border=\"1\" class=\"dataframe\">\n",
       "  <thead>\n",
       "    <tr style=\"text-align: right;\">\n",
       "      <th></th>\n",
       "      <th>Updated On</th>\n",
       "      <th>State</th>\n",
       "      <th>First Dose Administered</th>\n",
       "      <th>Second Dose Administered</th>\n",
       "      <th>Male (Doses Administered)</th>\n",
       "      <th>Female (Doses Administered)</th>\n",
       "      <th>Total Individuals Vaccinated</th>\n",
       "    </tr>\n",
       "  </thead>\n",
       "  <tbody>\n",
       "    <tr>\n",
       "      <th>0</th>\n",
       "      <td>16-01-2021</td>\n",
       "      <td>Andaman and Nicobar Islands</td>\n",
       "      <td>23.0</td>\n",
       "      <td>0.0</td>\n",
       "      <td>12.0</td>\n",
       "      <td>11.0</td>\n",
       "      <td>23.0</td>\n",
       "    </tr>\n",
       "    <tr>\n",
       "      <th>1</th>\n",
       "      <td>17-01-2021</td>\n",
       "      <td>Andaman and Nicobar Islands</td>\n",
       "      <td>23.0</td>\n",
       "      <td>0.0</td>\n",
       "      <td>12.0</td>\n",
       "      <td>11.0</td>\n",
       "      <td>23.0</td>\n",
       "    </tr>\n",
       "    <tr>\n",
       "      <th>2</th>\n",
       "      <td>18-01-2021</td>\n",
       "      <td>Andaman and Nicobar Islands</td>\n",
       "      <td>42.0</td>\n",
       "      <td>0.0</td>\n",
       "      <td>29.0</td>\n",
       "      <td>13.0</td>\n",
       "      <td>42.0</td>\n",
       "    </tr>\n",
       "    <tr>\n",
       "      <th>3</th>\n",
       "      <td>19-01-2021</td>\n",
       "      <td>Andaman and Nicobar Islands</td>\n",
       "      <td>89.0</td>\n",
       "      <td>0.0</td>\n",
       "      <td>53.0</td>\n",
       "      <td>36.0</td>\n",
       "      <td>89.0</td>\n",
       "    </tr>\n",
       "    <tr>\n",
       "      <th>4</th>\n",
       "      <td>20-01-2021</td>\n",
       "      <td>Andaman and Nicobar Islands</td>\n",
       "      <td>124.0</td>\n",
       "      <td>0.0</td>\n",
       "      <td>67.0</td>\n",
       "      <td>57.0</td>\n",
       "      <td>124.0</td>\n",
       "    </tr>\n",
       "    <tr>\n",
       "      <th>...</th>\n",
       "      <td>...</td>\n",
       "      <td>...</td>\n",
       "      <td>...</td>\n",
       "      <td>...</td>\n",
       "      <td>...</td>\n",
       "      <td>...</td>\n",
       "      <td>...</td>\n",
       "    </tr>\n",
       "    <tr>\n",
       "      <th>7628</th>\n",
       "      <td>11-08-2021</td>\n",
       "      <td>West Bengal</td>\n",
       "      <td>NaN</td>\n",
       "      <td>NaN</td>\n",
       "      <td>NaN</td>\n",
       "      <td>NaN</td>\n",
       "      <td>NaN</td>\n",
       "    </tr>\n",
       "    <tr>\n",
       "      <th>7629</th>\n",
       "      <td>12-08-2021</td>\n",
       "      <td>West Bengal</td>\n",
       "      <td>NaN</td>\n",
       "      <td>NaN</td>\n",
       "      <td>NaN</td>\n",
       "      <td>NaN</td>\n",
       "      <td>NaN</td>\n",
       "    </tr>\n",
       "    <tr>\n",
       "      <th>7630</th>\n",
       "      <td>13-08-2021</td>\n",
       "      <td>West Bengal</td>\n",
       "      <td>NaN</td>\n",
       "      <td>NaN</td>\n",
       "      <td>NaN</td>\n",
       "      <td>NaN</td>\n",
       "      <td>NaN</td>\n",
       "    </tr>\n",
       "    <tr>\n",
       "      <th>7631</th>\n",
       "      <td>14-08-2021</td>\n",
       "      <td>West Bengal</td>\n",
       "      <td>NaN</td>\n",
       "      <td>NaN</td>\n",
       "      <td>NaN</td>\n",
       "      <td>NaN</td>\n",
       "      <td>NaN</td>\n",
       "    </tr>\n",
       "    <tr>\n",
       "      <th>7632</th>\n",
       "      <td>15-08-2021</td>\n",
       "      <td>West Bengal</td>\n",
       "      <td>NaN</td>\n",
       "      <td>NaN</td>\n",
       "      <td>NaN</td>\n",
       "      <td>NaN</td>\n",
       "      <td>NaN</td>\n",
       "    </tr>\n",
       "  </tbody>\n",
       "</table>\n",
       "<p>7633 rows × 7 columns</p>\n",
       "</div>"
      ],
      "text/plain": [
       "      Updated On                        State  First Dose Administered  \\\n",
       "0     16-01-2021  Andaman and Nicobar Islands                     23.0   \n",
       "1     17-01-2021  Andaman and Nicobar Islands                     23.0   \n",
       "2     18-01-2021  Andaman and Nicobar Islands                     42.0   \n",
       "3     19-01-2021  Andaman and Nicobar Islands                     89.0   \n",
       "4     20-01-2021  Andaman and Nicobar Islands                    124.0   \n",
       "...          ...                          ...                      ...   \n",
       "7628  11-08-2021                  West Bengal                      NaN   \n",
       "7629  12-08-2021                  West Bengal                      NaN   \n",
       "7630  13-08-2021                  West Bengal                      NaN   \n",
       "7631  14-08-2021                  West Bengal                      NaN   \n",
       "7632  15-08-2021                  West Bengal                      NaN   \n",
       "\n",
       "      Second Dose Administered  Male (Doses Administered)  \\\n",
       "0                          0.0                       12.0   \n",
       "1                          0.0                       12.0   \n",
       "2                          0.0                       29.0   \n",
       "3                          0.0                       53.0   \n",
       "4                          0.0                       67.0   \n",
       "...                        ...                        ...   \n",
       "7628                       NaN                        NaN   \n",
       "7629                       NaN                        NaN   \n",
       "7630                       NaN                        NaN   \n",
       "7631                       NaN                        NaN   \n",
       "7632                       NaN                        NaN   \n",
       "\n",
       "      Female (Doses Administered)  Total Individuals Vaccinated  \n",
       "0                            11.0                          23.0  \n",
       "1                            11.0                          23.0  \n",
       "2                            13.0                          42.0  \n",
       "3                            36.0                          89.0  \n",
       "4                            57.0                         124.0  \n",
       "...                           ...                           ...  \n",
       "7628                          NaN                           NaN  \n",
       "7629                          NaN                           NaN  \n",
       "7630                          NaN                           NaN  \n",
       "7631                          NaN                           NaN  \n",
       "7632                          NaN                           NaN  \n",
       "\n",
       "[7633 rows x 7 columns]"
      ]
     },
     "execution_count": 8,
     "metadata": {},
     "output_type": "execute_result"
    }
   ],
   "source": [
    "coviddf"
   ]
  },
  {
   "cell_type": "code",
   "execution_count": 9,
   "metadata": {},
   "outputs": [
    {
     "data": {
      "text/plain": [
       "Index(['Updated On', 'State', 'First Dose Administered',\n",
       "       'Second Dose Administered', 'Male (Doses Administered)',\n",
       "       'Female (Doses Administered)', 'Total Individuals Vaccinated'],\n",
       "      dtype='object')"
      ]
     },
     "execution_count": 9,
     "metadata": {},
     "output_type": "execute_result"
    }
   ],
   "source": [
    "coviddf.columns"
   ]
  },
  {
   "cell_type": "markdown",
   "metadata": {},
   "source": [
    "### <b> Number of persons state wise vaccinated for first dose in India"
   ]
  },
  {
   "cell_type": "markdown",
   "metadata": {},
   "source": [
    "Total number of first doses:"
   ]
  },
  {
   "cell_type": "code",
   "execution_count": 10,
   "metadata": {},
   "outputs": [
    {
     "data": {
      "text/plain": [
       "28243114213.0"
      ]
     },
     "execution_count": 10,
     "metadata": {},
     "output_type": "execute_result"
    }
   ],
   "source": [
    "coviddf[\"First Dose Administered\"].sum()"
   ]
  },
  {
   "cell_type": "markdown",
   "metadata": {},
   "source": [
    "State wise first doses:"
   ]
  },
  {
   "cell_type": "code",
   "execution_count": 11,
   "metadata": {},
   "outputs": [
    {
     "data": {
      "text/html": [
       "<style type=\"text/css\">\n",
       "#T_348e6_row0_col1, #T_348e6_row9_col1 {\n",
       "  background-color: #e2d9e2;\n",
       "  color: #000000;\n",
       "}\n",
       "#T_348e6_row1_col1 {\n",
       "  background-color: #e2d9e1;\n",
       "  color: #000000;\n",
       "}\n",
       "#T_348e6_row2_col1 {\n",
       "  background-color: #721d4f;\n",
       "  color: #f1f1f1;\n",
       "}\n",
       "#T_348e6_row3_col1 {\n",
       "  background-color: #541546;\n",
       "  color: #f1f1f1;\n",
       "}\n",
       "#T_348e6_row4_col1 {\n",
       "  background-color: #501a74;\n",
       "  color: #f1f1f1;\n",
       "}\n",
       "#T_348e6_row5_col1, #T_348e6_row6_col1 {\n",
       "  background-color: #5b3298;\n",
       "  color: #f1f1f1;\n",
       "}\n",
       "#T_348e6_row7_col1 {\n",
       "  background-color: #84a8c4;\n",
       "  color: #f1f1f1;\n",
       "}\n",
       "#T_348e6_row8_col1 {\n",
       "  background-color: #d4d6dc;\n",
       "  color: #000000;\n",
       "}\n",
       "</style>\n",
       "<table id=\"T_348e6\">\n",
       "  <thead>\n",
       "    <tr>\n",
       "      <th class=\"blank level0\" >&nbsp;</th>\n",
       "      <th id=\"T_348e6_level0_col0\" class=\"col_heading level0 col0\" >State</th>\n",
       "      <th id=\"T_348e6_level0_col1\" class=\"col_heading level0 col1\" >First Dose Administered</th>\n",
       "    </tr>\n",
       "  </thead>\n",
       "  <tbody>\n",
       "    <tr>\n",
       "      <th id=\"T_348e6_level0_row0\" class=\"row_heading level0 row0\" >0</th>\n",
       "      <td id=\"T_348e6_row0_col0\" class=\"data row0 col0\" >Uttar Pradesh</td>\n",
       "      <td id=\"T_348e6_row0_col1\" class=\"data row0 col1\" >2788411358.000000</td>\n",
       "    </tr>\n",
       "    <tr>\n",
       "      <th id=\"T_348e6_level0_row1\" class=\"row_heading level0 row1\" >1</th>\n",
       "      <td id=\"T_348e6_row1_col0\" class=\"data row1 col0\" >Maharashtra</td>\n",
       "      <td id=\"T_348e6_row1_col1\" class=\"data row1 col1\" >2784364331.000000</td>\n",
       "    </tr>\n",
       "    <tr>\n",
       "      <th id=\"T_348e6_level0_row2\" class=\"row_heading level0 row2\" >2</th>\n",
       "      <td id=\"T_348e6_row2_col0\" class=\"data row2 col0\" >Rajasthan</td>\n",
       "      <td id=\"T_348e6_row2_col1\" class=\"data row2 col1\" >2201044187.000000</td>\n",
       "    </tr>\n",
       "    <tr>\n",
       "      <th id=\"T_348e6_level0_row3\" class=\"row_heading level0 row3\" >3</th>\n",
       "      <td id=\"T_348e6_row3_col0\" class=\"data row3 col0\" >Gujarat</td>\n",
       "      <td id=\"T_348e6_row3_col1\" class=\"data row3 col1\" >2131646009.000000</td>\n",
       "    </tr>\n",
       "    <tr>\n",
       "      <th id=\"T_348e6_level0_row4\" class=\"row_heading level0 row4\" >4</th>\n",
       "      <td id=\"T_348e6_row4_col0\" class=\"data row4 col0\" >Karnataka</td>\n",
       "      <td id=\"T_348e6_row4_col1\" class=\"data row4 col1\" >1873329968.000000</td>\n",
       "    </tr>\n",
       "    <tr>\n",
       "      <th id=\"T_348e6_level0_row5\" class=\"row_heading level0 row5\" >5</th>\n",
       "      <td id=\"T_348e6_row5_col0\" class=\"data row5 col0\" >Madhya Pradesh</td>\n",
       "      <td id=\"T_348e6_row5_col1\" class=\"data row5 col1\" >1796604591.000000</td>\n",
       "    </tr>\n",
       "    <tr>\n",
       "      <th id=\"T_348e6_level0_row6\" class=\"row_heading level0 row6\" >6</th>\n",
       "      <td id=\"T_348e6_row6_col0\" class=\"data row6 col0\" >West Bengal</td>\n",
       "      <td id=\"T_348e6_row6_col1\" class=\"data row6 col1\" >1796449989.000000</td>\n",
       "    </tr>\n",
       "    <tr>\n",
       "      <th id=\"T_348e6_level0_row7\" class=\"row_heading level0 row7\" >7</th>\n",
       "      <td id=\"T_348e6_row7_col0\" class=\"data row7 col0\" >Bihar</td>\n",
       "      <td id=\"T_348e6_row7_col1\" class=\"data row7 col1\" >1470502878.000000</td>\n",
       "    </tr>\n",
       "    <tr>\n",
       "      <th id=\"T_348e6_level0_row8\" class=\"row_heading level0 row8\" >8</th>\n",
       "      <td id=\"T_348e6_row8_col0\" class=\"data row8 col0\" >Tamil Nadu</td>\n",
       "      <td id=\"T_348e6_row8_col1\" class=\"data row8 col1\" >1288532512.000000</td>\n",
       "    </tr>\n",
       "    <tr>\n",
       "      <th id=\"T_348e6_level0_row9\" class=\"row_heading level0 row9\" >9</th>\n",
       "      <td id=\"T_348e6_row9_col0\" class=\"data row9 col0\" >Andhra Pradesh</td>\n",
       "      <td id=\"T_348e6_row9_col1\" class=\"data row9 col1\" >1232860845.000000</td>\n",
       "    </tr>\n",
       "  </tbody>\n",
       "</table>\n"
      ],
      "text/plain": [
       "<pandas.io.formats.style.Styler at 0x173943763a0>"
      ]
     },
     "execution_count": 11,
     "metadata": {},
     "output_type": "execute_result"
    }
   ],
   "source": [
    "dose1=coviddf.pivot_table( index = 'State', values = ['First Dose Administered'], aggfunc = 'sum' ).sort_values(by = ['First Dose Administered'],ascending=False).reset_index().head(10)\n",
    "dose1.style.background_gradient(cmap='twilight')"
   ]
  },
  {
   "cell_type": "markdown",
   "metadata": {},
   "source": [
    "### <b> Number of persons state wise vaccinated for second dose in India"
   ]
  },
  {
   "cell_type": "markdown",
   "metadata": {},
   "source": [
    "Total number of second doses:"
   ]
  },
  {
   "cell_type": "code",
   "execution_count": 12,
   "metadata": {},
   "outputs": [
    {
     "data": {
      "text/plain": [
       "6758167261.0"
      ]
     },
     "execution_count": 12,
     "metadata": {},
     "output_type": "execute_result"
    }
   ],
   "source": [
    "coviddf[\"Second Dose Administered\"].sum()"
   ]
  },
  {
   "cell_type": "markdown",
   "metadata": {},
   "source": [
    "State wise second doses:"
   ]
  },
  {
   "cell_type": "code",
   "execution_count": 13,
   "metadata": {},
   "outputs": [
    {
     "data": {
      "text/html": [
       "<style type=\"text/css\">\n",
       "#T_7d293_row0_col1, #T_7d293_row9_col1 {\n",
       "  background-color: #e2d9e2;\n",
       "  color: #000000;\n",
       "}\n",
       "#T_7d293_row1_col1 {\n",
       "  background-color: #ac4d51;\n",
       "  color: #f1f1f1;\n",
       "}\n",
       "#T_7d293_row2_col1 {\n",
       "  background-color: #9e3b50;\n",
       "  color: #f1f1f1;\n",
       "}\n",
       "#T_7d293_row3_col1 {\n",
       "  background-color: #741e4f;\n",
       "  color: #f1f1f1;\n",
       "}\n",
       "#T_7d293_row4_col1 {\n",
       "  background-color: #361142;\n",
       "  color: #f1f1f1;\n",
       "}\n",
       "#T_7d293_row5_col1 {\n",
       "  background-color: #5e4ba9;\n",
       "  color: #f1f1f1;\n",
       "}\n",
       "#T_7d293_row6_col1 {\n",
       "  background-color: #789ec2;\n",
       "  color: #f1f1f1;\n",
       "}\n",
       "#T_7d293_row7_col1 {\n",
       "  background-color: #7ea4c3;\n",
       "  color: #f1f1f1;\n",
       "}\n",
       "#T_7d293_row8_col1 {\n",
       "  background-color: #c4ced4;\n",
       "  color: #000000;\n",
       "}\n",
       "</style>\n",
       "<table id=\"T_7d293\">\n",
       "  <thead>\n",
       "    <tr>\n",
       "      <th class=\"blank level0\" >&nbsp;</th>\n",
       "      <th id=\"T_7d293_level0_col0\" class=\"col_heading level0 col0\" >State</th>\n",
       "      <th id=\"T_7d293_level0_col1\" class=\"col_heading level0 col1\" >Second Dose Administered</th>\n",
       "    </tr>\n",
       "  </thead>\n",
       "  <tbody>\n",
       "    <tr>\n",
       "      <th id=\"T_7d293_level0_row0\" class=\"row_heading level0 row0\" >0</th>\n",
       "      <td id=\"T_7d293_row0_col0\" class=\"data row0 col0\" >Maharashtra</td>\n",
       "      <td id=\"T_7d293_row0_col1\" class=\"data row0 col1\" >712881086.000000</td>\n",
       "    </tr>\n",
       "    <tr>\n",
       "      <th id=\"T_7d293_level0_row1\" class=\"row_heading level0 row1\" >1</th>\n",
       "      <td id=\"T_7d293_row1_col0\" class=\"data row1 col0\" >Gujarat</td>\n",
       "      <td id=\"T_7d293_row1_col1\" class=\"data row1 col1\" >600418376.000000</td>\n",
       "    </tr>\n",
       "    <tr>\n",
       "      <th id=\"T_7d293_level0_row2\" class=\"row_heading level0 row2\" >2</th>\n",
       "      <td id=\"T_7d293_row2_col0\" class=\"data row2 col0\" >West Bengal</td>\n",
       "      <td id=\"T_7d293_row2_col1\" class=\"data row2 col1\" >586146880.000000</td>\n",
       "    </tr>\n",
       "    <tr>\n",
       "      <th id=\"T_7d293_level0_row3\" class=\"row_heading level0 row3\" >3</th>\n",
       "      <td id=\"T_7d293_row3_col0\" class=\"data row3 col0\" >Uttar Pradesh</td>\n",
       "      <td id=\"T_7d293_row3_col1\" class=\"data row3 col1\" >554435112.000000</td>\n",
       "    </tr>\n",
       "    <tr>\n",
       "      <th id=\"T_7d293_level0_row4\" class=\"row_heading level0 row4\" >4</th>\n",
       "      <td id=\"T_7d293_row4_col0\" class=\"data row4 col0\" >Rajasthan</td>\n",
       "      <td id=\"T_7d293_row4_col1\" class=\"data row4 col1\" >491702988.000000</td>\n",
       "    </tr>\n",
       "    <tr>\n",
       "      <th id=\"T_7d293_level0_row5\" class=\"row_heading level0 row5\" >5</th>\n",
       "      <td id=\"T_7d293_row5_col0\" class=\"data row5 col0\" >Karnataka</td>\n",
       "      <td id=\"T_7d293_row5_col1\" class=\"data row5 col1\" >427187178.000000</td>\n",
       "    </tr>\n",
       "    <tr>\n",
       "      <th id=\"T_7d293_level0_row6\" class=\"row_heading level0 row6\" >6</th>\n",
       "      <td id=\"T_7d293_row6_col0\" class=\"data row6 col0\" >Kerala</td>\n",
       "      <td id=\"T_7d293_row6_col1\" class=\"data row6 col1\" >364048753.000000</td>\n",
       "    </tr>\n",
       "    <tr>\n",
       "      <th id=\"T_7d293_level0_row7\" class=\"row_heading level0 row7\" >7</th>\n",
       "      <td id=\"T_7d293_row7_col0\" class=\"data row7 col0\" >Andhra Pradesh</td>\n",
       "      <td id=\"T_7d293_row7_col1\" class=\"data row7 col1\" >358817595.000000</td>\n",
       "    </tr>\n",
       "    <tr>\n",
       "      <th id=\"T_7d293_level0_row8\" class=\"row_heading level0 row8\" >8</th>\n",
       "      <td id=\"T_7d293_row8_col0\" class=\"data row8 col0\" >Madhya Pradesh</td>\n",
       "      <td id=\"T_7d293_row8_col1\" class=\"data row8 col1\" >316932957.000000</td>\n",
       "    </tr>\n",
       "    <tr>\n",
       "      <th id=\"T_7d293_level0_row9\" class=\"row_heading level0 row9\" >9</th>\n",
       "      <td id=\"T_7d293_row9_col0\" class=\"data row9 col0\" >Tamil Nadu</td>\n",
       "      <td id=\"T_7d293_row9_col1\" class=\"data row9 col1\" >290670622.000000</td>\n",
       "    </tr>\n",
       "  </tbody>\n",
       "</table>\n"
      ],
      "text/plain": [
       "<pandas.io.formats.style.Styler at 0x1739429d1f0>"
      ]
     },
     "execution_count": 13,
     "metadata": {},
     "output_type": "execute_result"
    }
   ],
   "source": [
    "dose2=coviddf.pivot_table( index = 'State', values = ['Second Dose Administered'], aggfunc = 'sum' ).sort_values(by = ['Second Dose Administered'],ascending=False).reset_index().head(10)\n",
    "dose2.style.background_gradient(cmap='twilight')"
   ]
  },
  {
   "cell_type": "markdown",
   "metadata": {},
   "source": [
    "### <b> State wise First Dose VS Second Dose"
   ]
  },
  {
   "cell_type": "code",
   "execution_count": 14,
   "metadata": {},
   "outputs": [
    {
     "data": {
      "text/html": [
       "<style type=\"text/css\">\n",
       "#T_41e82_row0_col1, #T_41e82_row1_col2, #T_41e82_row7_col2, #T_41e82_row9_col1 {\n",
       "  background-color: #e2d9e2;\n",
       "  color: #000000;\n",
       "}\n",
       "#T_41e82_row0_col2 {\n",
       "  background-color: #7f2350;\n",
       "  color: #f1f1f1;\n",
       "}\n",
       "#T_41e82_row1_col1 {\n",
       "  background-color: #e2d9e1;\n",
       "  color: #000000;\n",
       "}\n",
       "#T_41e82_row2_col1 {\n",
       "  background-color: #721d4f;\n",
       "  color: #f1f1f1;\n",
       "}\n",
       "#T_41e82_row2_col2 {\n",
       "  background-color: #301437;\n",
       "  color: #f1f1f1;\n",
       "}\n",
       "#T_41e82_row3_col1 {\n",
       "  background-color: #541546;\n",
       "  color: #f1f1f1;\n",
       "}\n",
       "#T_41e82_row3_col2 {\n",
       "  background-color: #b15452;\n",
       "  color: #f1f1f1;\n",
       "}\n",
       "#T_41e82_row4_col1 {\n",
       "  background-color: #501a74;\n",
       "  color: #f1f1f1;\n",
       "}\n",
       "#T_41e82_row4_col2 {\n",
       "  background-color: #5c379c;\n",
       "  color: #f1f1f1;\n",
       "}\n",
       "#T_41e82_row5_col1, #T_41e82_row6_col1 {\n",
       "  background-color: #5b3298;\n",
       "  color: #f1f1f1;\n",
       "}\n",
       "#T_41e82_row5_col2 {\n",
       "  background-color: #a3beca;\n",
       "  color: #000000;\n",
       "}\n",
       "#T_41e82_row6_col2 {\n",
       "  background-color: #a44250;\n",
       "  color: #f1f1f1;\n",
       "}\n",
       "#T_41e82_row7_col1 {\n",
       "  background-color: #84a8c4;\n",
       "  color: #f1f1f1;\n",
       "}\n",
       "#T_41e82_row8_col1 {\n",
       "  background-color: #d4d6dc;\n",
       "  color: #000000;\n",
       "}\n",
       "#T_41e82_row8_col2 {\n",
       "  background-color: #d0d4d9;\n",
       "  color: #000000;\n",
       "}\n",
       "#T_41e82_row9_col2 {\n",
       "  background-color: #6e91c0;\n",
       "  color: #f1f1f1;\n",
       "}\n",
       "</style>\n",
       "<table id=\"T_41e82\">\n",
       "  <thead>\n",
       "    <tr>\n",
       "      <th class=\"blank level0\" >&nbsp;</th>\n",
       "      <th id=\"T_41e82_level0_col0\" class=\"col_heading level0 col0\" >State</th>\n",
       "      <th id=\"T_41e82_level0_col1\" class=\"col_heading level0 col1\" >First Dose Administered</th>\n",
       "      <th id=\"T_41e82_level0_col2\" class=\"col_heading level0 col2\" >Second Dose Administered</th>\n",
       "    </tr>\n",
       "  </thead>\n",
       "  <tbody>\n",
       "    <tr>\n",
       "      <th id=\"T_41e82_level0_row0\" class=\"row_heading level0 row0\" >0</th>\n",
       "      <td id=\"T_41e82_row0_col0\" class=\"data row0 col0\" >Uttar Pradesh</td>\n",
       "      <td id=\"T_41e82_row0_col1\" class=\"data row0 col1\" >2788411358.000000</td>\n",
       "      <td id=\"T_41e82_row0_col2\" class=\"data row0 col2\" >554435112.000000</td>\n",
       "    </tr>\n",
       "    <tr>\n",
       "      <th id=\"T_41e82_level0_row1\" class=\"row_heading level0 row1\" >1</th>\n",
       "      <td id=\"T_41e82_row1_col0\" class=\"data row1 col0\" >Maharashtra</td>\n",
       "      <td id=\"T_41e82_row1_col1\" class=\"data row1 col1\" >2784364331.000000</td>\n",
       "      <td id=\"T_41e82_row1_col2\" class=\"data row1 col2\" >712881086.000000</td>\n",
       "    </tr>\n",
       "    <tr>\n",
       "      <th id=\"T_41e82_level0_row2\" class=\"row_heading level0 row2\" >2</th>\n",
       "      <td id=\"T_41e82_row2_col0\" class=\"data row2 col0\" >Rajasthan</td>\n",
       "      <td id=\"T_41e82_row2_col1\" class=\"data row2 col1\" >2201044187.000000</td>\n",
       "      <td id=\"T_41e82_row2_col2\" class=\"data row2 col2\" >491702988.000000</td>\n",
       "    </tr>\n",
       "    <tr>\n",
       "      <th id=\"T_41e82_level0_row3\" class=\"row_heading level0 row3\" >3</th>\n",
       "      <td id=\"T_41e82_row3_col0\" class=\"data row3 col0\" >Gujarat</td>\n",
       "      <td id=\"T_41e82_row3_col1\" class=\"data row3 col1\" >2131646009.000000</td>\n",
       "      <td id=\"T_41e82_row3_col2\" class=\"data row3 col2\" >600418376.000000</td>\n",
       "    </tr>\n",
       "    <tr>\n",
       "      <th id=\"T_41e82_level0_row4\" class=\"row_heading level0 row4\" >4</th>\n",
       "      <td id=\"T_41e82_row4_col0\" class=\"data row4 col0\" >Karnataka</td>\n",
       "      <td id=\"T_41e82_row4_col1\" class=\"data row4 col1\" >1873329968.000000</td>\n",
       "      <td id=\"T_41e82_row4_col2\" class=\"data row4 col2\" >427187178.000000</td>\n",
       "    </tr>\n",
       "    <tr>\n",
       "      <th id=\"T_41e82_level0_row5\" class=\"row_heading level0 row5\" >5</th>\n",
       "      <td id=\"T_41e82_row5_col0\" class=\"data row5 col0\" >Madhya Pradesh</td>\n",
       "      <td id=\"T_41e82_row5_col1\" class=\"data row5 col1\" >1796604591.000000</td>\n",
       "      <td id=\"T_41e82_row5_col2\" class=\"data row5 col2\" >316932957.000000</td>\n",
       "    </tr>\n",
       "    <tr>\n",
       "      <th id=\"T_41e82_level0_row6\" class=\"row_heading level0 row6\" >6</th>\n",
       "      <td id=\"T_41e82_row6_col0\" class=\"data row6 col0\" >West Bengal</td>\n",
       "      <td id=\"T_41e82_row6_col1\" class=\"data row6 col1\" >1796449989.000000</td>\n",
       "      <td id=\"T_41e82_row6_col2\" class=\"data row6 col2\" >586146880.000000</td>\n",
       "    </tr>\n",
       "    <tr>\n",
       "      <th id=\"T_41e82_level0_row7\" class=\"row_heading level0 row7\" >7</th>\n",
       "      <td id=\"T_41e82_row7_col0\" class=\"data row7 col0\" >Bihar</td>\n",
       "      <td id=\"T_41e82_row7_col1\" class=\"data row7 col1\" >1470502878.000000</td>\n",
       "      <td id=\"T_41e82_row7_col2\" class=\"data row7 col2\" >270790571.000000</td>\n",
       "    </tr>\n",
       "    <tr>\n",
       "      <th id=\"T_41e82_level0_row8\" class=\"row_heading level0 row8\" >8</th>\n",
       "      <td id=\"T_41e82_row8_col0\" class=\"data row8 col0\" >Tamil Nadu</td>\n",
       "      <td id=\"T_41e82_row8_col1\" class=\"data row8 col1\" >1288532512.000000</td>\n",
       "      <td id=\"T_41e82_row8_col2\" class=\"data row8 col2\" >290670622.000000</td>\n",
       "    </tr>\n",
       "    <tr>\n",
       "      <th id=\"T_41e82_level0_row9\" class=\"row_heading level0 row9\" >9</th>\n",
       "      <td id=\"T_41e82_row9_col0\" class=\"data row9 col0\" >Andhra Pradesh</td>\n",
       "      <td id=\"T_41e82_row9_col1\" class=\"data row9 col1\" >1232860845.000000</td>\n",
       "      <td id=\"T_41e82_row9_col2\" class=\"data row9 col2\" >358817595.000000</td>\n",
       "    </tr>\n",
       "  </tbody>\n",
       "</table>\n"
      ],
      "text/plain": [
       "<pandas.io.formats.style.Styler at 0x17394376340>"
      ]
     },
     "execution_count": 14,
     "metadata": {},
     "output_type": "execute_result"
    }
   ],
   "source": [
    "doses=coviddf.pivot_table( index = 'State', values = ['First Dose Administered','Second Dose Administered'], aggfunc = 'sum' ).sort_values(by = ['First Dose Administered','Second Dose Administered'],ascending=False).reset_index().head(10)\n",
    "doses.style.background_gradient(cmap='twilight')"
   ]
  },
  {
   "cell_type": "code",
   "execution_count": 15,
   "metadata": {},
   "outputs": [],
   "source": [
    "import plotly.express as px\n",
    "import plotly.graph_objects as go"
   ]
  },
  {
   "cell_type": "code",
   "execution_count": 16,
   "metadata": {},
   "outputs": [
    {
     "data": {
      "application/vnd.plotly.v1+json": {
       "config": {
        "plotlyServerURL": "https://plot.ly"
       },
       "data": [
        {
         "alignmentgroup": "True",
         "hovertemplate": "variable=First Dose Administered<br>State=%{x}<br>value=%{y}<extra></extra>",
         "legendgroup": "First Dose Administered",
         "marker": {
          "color": "#636efa",
          "pattern": {
           "shape": ""
          }
         },
         "name": "First Dose Administered",
         "offsetgroup": "First Dose Administered",
         "orientation": "v",
         "showlegend": true,
         "textposition": "auto",
         "type": "bar",
         "x": [
          "Uttar Pradesh",
          "Maharashtra",
          "Rajasthan",
          "Gujarat",
          "Karnataka",
          "Madhya Pradesh",
          "West Bengal",
          "Bihar",
          "Tamil Nadu",
          "Andhra Pradesh"
         ],
         "xaxis": "x",
         "y": [
          2788411358,
          2784364331,
          2201044187,
          2131646009,
          1873329968,
          1796604591,
          1796449989,
          1470502878,
          1288532512,
          1232860845
         ],
         "yaxis": "y"
        },
        {
         "alignmentgroup": "True",
         "hovertemplate": "variable=Second Dose Administered<br>State=%{x}<br>value=%{y}<extra></extra>",
         "legendgroup": "Second Dose Administered",
         "marker": {
          "color": "#EF553B",
          "pattern": {
           "shape": ""
          }
         },
         "name": "Second Dose Administered",
         "offsetgroup": "Second Dose Administered",
         "orientation": "v",
         "showlegend": true,
         "textposition": "auto",
         "type": "bar",
         "x": [
          "Uttar Pradesh",
          "Maharashtra",
          "Rajasthan",
          "Gujarat",
          "Karnataka",
          "Madhya Pradesh",
          "West Bengal",
          "Bihar",
          "Tamil Nadu",
          "Andhra Pradesh"
         ],
         "xaxis": "x",
         "y": [
          554435112,
          712881086,
          491702988,
          600418376,
          427187178,
          316932957,
          586146880,
          270790571,
          290670622,
          358817595
         ],
         "yaxis": "y"
        }
       ],
       "layout": {
        "barmode": "relative",
        "font": {
         "size": 14
        },
        "legend": {
         "title": {
          "text": "variable"
         },
         "tracegroupgap": 0
        },
        "margin": {
         "t": 60
        },
        "template": {
         "data": {
          "pie": [
           {
            "automargin": true,
            "type": "pie"
           }
          ],
          "scatter": [
           {
            "line": {
             "width": 3
            },
            "marker": {
             "size": 9
            },
            "type": "scatter"
           }
          ],
          "scatter3d": [
           {
            "line": {
             "width": 3
            },
            "marker": {
             "size": 9
            },
            "type": "scatter3d"
           }
          ],
          "scattergeo": [
           {
            "line": {
             "width": 3
            },
            "marker": {
             "size": 9
            },
            "type": "scattergeo"
           }
          ],
          "scattergl": [
           {
            "line": {
             "width": 3
            },
            "marker": {
             "size": 9
            },
            "type": "scattergl"
           }
          ],
          "scatterpolar": [
           {
            "line": {
             "width": 3
            },
            "marker": {
             "size": 9
            },
            "type": "scatterpolar"
           }
          ],
          "scatterpolargl": [
           {
            "line": {
             "width": 3
            },
            "marker": {
             "size": 9
            },
            "type": "scatterpolargl"
           }
          ],
          "scatterternary": [
           {
            "line": {
             "width": 3
            },
            "marker": {
             "size": 9
            },
            "type": "scatterternary"
           }
          ],
          "table": [
           {
            "cells": {
             "height": 30
            },
            "header": {
             "height": 36
            },
            "type": "table"
           }
          ]
         },
         "layout": {
          "font": {
           "size": 18
          },
          "xaxis": {
           "title": {
            "standoff": 15
           }
          },
          "yaxis": {
           "title": {
            "standoff": 15
           }
          }
         }
        },
        "title": {
         "text": "No. of doses Administered in top 10 states"
        },
        "xaxis": {
         "anchor": "y",
         "domain": [
          0,
          1
         ],
         "title": {
          "text": "States"
         }
        },
        "yaxis": {
         "anchor": "x",
         "domain": [
          0,
          1
         ],
         "title": {
          "text": "Doses"
         }
        }
       }
      }
     },
     "metadata": {},
     "output_type": "display_data"
    }
   ],
   "source": [
    "fig=px.bar(doses,x='State',y=['First Dose Administered','Second Dose Administered'])\n",
    "fig.update_layout(\n",
    "    title=\"No. of doses Administered in top 10 states\",\n",
    "    xaxis_title=\"States\",\n",
    "    yaxis_title=\"Doses\",\n",
    "    font=dict(\n",
    "        size=14\n",
    "    )\n",
    ")\n",
    "fig.layout.template = 'presentation'\n",
    "fig.show()"
   ]
  },
  {
   "cell_type": "markdown",
   "metadata": {},
   "source": [
    "### <b> Number of Males vaccinated"
   ]
  },
  {
   "cell_type": "markdown",
   "metadata": {},
   "source": [
    "#### <b> Number of Males vaccinated"
   ]
  },
  {
   "cell_type": "code",
   "execution_count": 17,
   "metadata": {},
   "outputs": [
    {
     "data": {
      "text/plain": [
       "17072685545.0"
      ]
     },
     "execution_count": 17,
     "metadata": {},
     "output_type": "execute_result"
    }
   ],
   "source": [
    "coviddf[\"Male (Doses Administered)\"].sum()"
   ]
  },
  {
   "cell_type": "markdown",
   "metadata": {},
   "source": [
    "### <b> Number of Females vaccinated"
   ]
  },
  {
   "cell_type": "code",
   "execution_count": 18,
   "metadata": {},
   "outputs": [
    {
     "data": {
      "text/plain": [
       "14979137345.0"
      ]
     },
     "execution_count": 18,
     "metadata": {},
     "output_type": "execute_result"
    }
   ],
   "source": [
    "coviddf[\"Female (Doses Administered)\"].sum()"
   ]
  },
  {
   "cell_type": "code",
   "execution_count": 19,
   "metadata": {},
   "outputs": [
    {
     "name": "stdout",
     "output_type": "stream",
     "text": [
      "Number of Males vaccinated:  17072685545.0\n",
      "Number of Females vaccinated:  14979137345.0 \n",
      "\n",
      "Visualization\n"
     ]
    },
    {
     "data": {
      "application/vnd.plotly.v1+json": {
       "config": {
        "plotlyServerURL": "https://plot.ly"
       },
       "data": [
        {
         "domain": {
          "x": [
           0,
           1
          ],
          "y": [
           0,
           1
          ]
         },
         "hovertemplate": "label=%{label}<br>value=%{value}<extra></extra>",
         "labels": [
          "Male Vaccinated",
          "Female Vaccinated"
         ],
         "legendgroup": "",
         "name": "",
         "showlegend": true,
         "textinfo": "percent+label",
         "textposition": "inside",
         "type": "pie",
         "values": [
          17072685545,
          14979137345
         ]
        }
       ],
       "layout": {
        "font": {
         "size": 14
        },
        "height": 500,
        "legend": {
         "title": {
          "text": "Gender"
         },
         "tracegroupgap": 0
        },
        "margin": {
         "t": 60
        },
        "template": {
         "data": {
          "pie": [
           {
            "automargin": true,
            "type": "pie"
           }
          ],
          "scatter": [
           {
            "line": {
             "width": 3
            },
            "marker": {
             "size": 9
            },
            "type": "scatter"
           }
          ],
          "scatter3d": [
           {
            "line": {
             "width": 3
            },
            "marker": {
             "size": 9
            },
            "type": "scatter3d"
           }
          ],
          "scattergeo": [
           {
            "line": {
             "width": 3
            },
            "marker": {
             "size": 9
            },
            "type": "scattergeo"
           }
          ],
          "scattergl": [
           {
            "line": {
             "width": 3
            },
            "marker": {
             "size": 9
            },
            "type": "scattergl"
           }
          ],
          "scatterpolar": [
           {
            "line": {
             "width": 3
            },
            "marker": {
             "size": 9
            },
            "type": "scatterpolar"
           }
          ],
          "scatterpolargl": [
           {
            "line": {
             "width": 3
            },
            "marker": {
             "size": 9
            },
            "type": "scatterpolargl"
           }
          ],
          "scatterternary": [
           {
            "line": {
             "width": 3
            },
            "marker": {
             "size": 9
            },
            "type": "scatterternary"
           }
          ],
          "table": [
           {
            "cells": {
             "height": 30
            },
            "header": {
             "height": 36
            },
            "type": "table"
           }
          ]
         },
         "layout": {
          "font": {
           "size": 18
          },
          "xaxis": {
           "title": {
            "standoff": 15
           }
          },
          "yaxis": {
           "title": {
            "standoff": 15
           }
          }
         }
        },
        "title": {
         "text": "Gender ratio (Doses Administered)"
        },
        "width": 800
       }
      }
     },
     "metadata": {},
     "output_type": "display_data"
    }
   ],
   "source": [
    "male = coviddf[\"Male (Doses Administered)\"].sum() \n",
    "female = coviddf[\"Female (Doses Administered)\"].sum()\n",
    "\n",
    "print(\"Number of Males vaccinated: \", male)\n",
    "print(\"Number of Females vaccinated: \", female, '\\n')\n",
    "print(\"Visualization\")\n",
    "\n",
    "fig = px.pie(values=[male,female], names=[\"Male Vaccinated\",\"Female Vaccinated\"],\n",
    "             width=800,height=500)\n",
    "fig.update_layout(\n",
    "    title=\"Gender ratio (Doses Administered)\",\n",
    "    legend_title=\"Gender\",\n",
    "    font=dict(\n",
    "        size=14\n",
    "    )\n",
    ")\n",
    "fig.layout.template = 'presentation'\n",
    "fig.update_traces(textposition='inside', textinfo='percent+label')\n",
    "fig.show()"
   ]
  },
  {
   "cell_type": "markdown",
   "metadata": {},
   "source": [
    "### <b> Top 10 states with highest number of Vaccination"
   ]
  },
  {
   "cell_type": "code",
   "execution_count": 20,
   "metadata": {},
   "outputs": [
    {
     "data": {
      "application/vnd.plotly.v1+json": {
       "config": {
        "plotlyServerURL": "https://plot.ly"
       },
       "data": [
        {
         "alignmentgroup": "True",
         "hovertemplate": "State=%{x}<br>Total Individuals Vaccinated=%{y}<extra></extra>",
         "legendgroup": "Maharashtra",
         "marker": {
          "color": "#636efa",
          "pattern": {
           "shape": ""
          }
         },
         "name": "Maharashtra",
         "offsetgroup": "Maharashtra",
         "orientation": "v",
         "showlegend": true,
         "textposition": "auto",
         "type": "bar",
         "x": [
          "Maharashtra"
         ],
         "xaxis": "x",
         "y": [
          1403075494
         ],
         "yaxis": "y"
        },
        {
         "alignmentgroup": "True",
         "hovertemplate": "State=%{x}<br>Total Individuals Vaccinated=%{y}<extra></extra>",
         "legendgroup": "Uttar Pradesh",
         "marker": {
          "color": "#EF553B",
          "pattern": {
           "shape": ""
          }
         },
         "name": "Uttar Pradesh",
         "offsetgroup": "Uttar Pradesh",
         "orientation": "v",
         "showlegend": true,
         "textposition": "auto",
         "type": "bar",
         "x": [
          "Uttar Pradesh"
         ],
         "xaxis": "x",
         "y": [
          1200575482
         ],
         "yaxis": "y"
        },
        {
         "alignmentgroup": "True",
         "hovertemplate": "State=%{x}<br>Total Individuals Vaccinated=%{y}<extra></extra>",
         "legendgroup": "Rajasthan",
         "marker": {
          "color": "#00cc96",
          "pattern": {
           "shape": ""
          }
         },
         "name": "Rajasthan",
         "offsetgroup": "Rajasthan",
         "orientation": "v",
         "showlegend": true,
         "textposition": "auto",
         "type": "bar",
         "x": [
          "Rajasthan"
         ],
         "xaxis": "x",
         "y": [
          1141162807
         ],
         "yaxis": "y"
        },
        {
         "alignmentgroup": "True",
         "hovertemplate": "State=%{x}<br>Total Individuals Vaccinated=%{y}<extra></extra>",
         "legendgroup": "Gujarat",
         "marker": {
          "color": "#ab63fa",
          "pattern": {
           "shape": ""
          }
         },
         "name": "Gujarat",
         "offsetgroup": "Gujarat",
         "orientation": "v",
         "showlegend": true,
         "textposition": "auto",
         "type": "bar",
         "x": [
          "Gujarat"
         ],
         "xaxis": "x",
         "y": [
          1078260544
         ],
         "yaxis": "y"
        },
        {
         "alignmentgroup": "True",
         "hovertemplate": "State=%{x}<br>Total Individuals Vaccinated=%{y}<extra></extra>",
         "legendgroup": "West Bengal",
         "marker": {
          "color": "#FFA15A",
          "pattern": {
           "shape": ""
          }
         },
         "name": "West Bengal",
         "offsetgroup": "West Bengal",
         "orientation": "v",
         "showlegend": true,
         "textposition": "auto",
         "type": "bar",
         "x": [
          "West Bengal"
         ],
         "xaxis": "x",
         "y": [
          925022706
         ],
         "yaxis": "y"
        },
        {
         "alignmentgroup": "True",
         "hovertemplate": "State=%{x}<br>Total Individuals Vaccinated=%{y}<extra></extra>",
         "legendgroup": "Karnataka",
         "marker": {
          "color": "#19d3f3",
          "pattern": {
           "shape": ""
          }
         },
         "name": "Karnataka",
         "offsetgroup": "Karnataka",
         "orientation": "v",
         "showlegend": true,
         "textposition": "auto",
         "type": "bar",
         "x": [
          "Karnataka"
         ],
         "xaxis": "x",
         "y": [
          868523530
         ],
         "yaxis": "y"
        },
        {
         "alignmentgroup": "True",
         "hovertemplate": "State=%{x}<br>Total Individuals Vaccinated=%{y}<extra></extra>",
         "legendgroup": "Madhya Pradesh",
         "marker": {
          "color": "#FF6692",
          "pattern": {
           "shape": ""
          }
         },
         "name": "Madhya Pradesh",
         "offsetgroup": "Madhya Pradesh",
         "orientation": "v",
         "showlegend": true,
         "textposition": "auto",
         "type": "bar",
         "x": [
          "Madhya Pradesh"
         ],
         "xaxis": "x",
         "y": [
          771864046
         ],
         "yaxis": "y"
        },
        {
         "alignmentgroup": "True",
         "hovertemplate": "State=%{x}<br>Total Individuals Vaccinated=%{y}<extra></extra>",
         "legendgroup": "Bihar",
         "marker": {
          "color": "#B6E880",
          "pattern": {
           "shape": ""
          }
         },
         "name": "Bihar",
         "offsetgroup": "Bihar",
         "orientation": "v",
         "showlegend": true,
         "textposition": "auto",
         "type": "bar",
         "x": [
          "Bihar"
         ],
         "xaxis": "x",
         "y": [
          660847900
         ],
         "yaxis": "y"
        },
        {
         "alignmentgroup": "True",
         "hovertemplate": "State=%{x}<br>Total Individuals Vaccinated=%{y}<extra></extra>",
         "legendgroup": "Kerala",
         "marker": {
          "color": "#FF97FF",
          "pattern": {
           "shape": ""
          }
         },
         "name": "Kerala",
         "offsetgroup": "Kerala",
         "orientation": "v",
         "showlegend": true,
         "textposition": "auto",
         "type": "bar",
         "x": [
          "Kerala"
         ],
         "xaxis": "x",
         "y": [
          620825191
         ],
         "yaxis": "y"
        },
        {
         "alignmentgroup": "True",
         "hovertemplate": "State=%{x}<br>Total Individuals Vaccinated=%{y}<extra></extra>",
         "legendgroup": "Andhra Pradesh",
         "marker": {
          "color": "#FECB52",
          "pattern": {
           "shape": ""
          }
         },
         "name": "Andhra Pradesh",
         "offsetgroup": "Andhra Pradesh",
         "orientation": "v",
         "showlegend": true,
         "textposition": "auto",
         "type": "bar",
         "x": [
          "Andhra Pradesh"
         ],
         "xaxis": "x",
         "y": [
          564591113
         ],
         "yaxis": "y"
        }
       ],
       "layout": {
        "barmode": "relative",
        "font": {
         "size": 14
        },
        "height": 550,
        "legend": {
         "title": {
          "text": "State/UnionTerritory"
         },
         "tracegroupgap": 0
        },
        "margin": {
         "t": 60
        },
        "template": {
         "data": {
          "pie": [
           {
            "automargin": true,
            "type": "pie"
           }
          ],
          "scatter": [
           {
            "line": {
             "width": 3
            },
            "marker": {
             "size": 9
            },
            "type": "scatter"
           }
          ],
          "scatter3d": [
           {
            "line": {
             "width": 3
            },
            "marker": {
             "size": 9
            },
            "type": "scatter3d"
           }
          ],
          "scattergeo": [
           {
            "line": {
             "width": 3
            },
            "marker": {
             "size": 9
            },
            "type": "scattergeo"
           }
          ],
          "scattergl": [
           {
            "line": {
             "width": 3
            },
            "marker": {
             "size": 9
            },
            "type": "scattergl"
           }
          ],
          "scatterpolar": [
           {
            "line": {
             "width": 3
            },
            "marker": {
             "size": 9
            },
            "type": "scatterpolar"
           }
          ],
          "scatterpolargl": [
           {
            "line": {
             "width": 3
            },
            "marker": {
             "size": 9
            },
            "type": "scatterpolargl"
           }
          ],
          "scatterternary": [
           {
            "line": {
             "width": 3
            },
            "marker": {
             "size": 9
            },
            "type": "scatterternary"
           }
          ],
          "table": [
           {
            "cells": {
             "height": 30
            },
            "header": {
             "height": 36
            },
            "type": "table"
           }
          ]
         },
         "layout": {
          "font": {
           "size": 18
          },
          "xaxis": {
           "title": {
            "standoff": 15
           }
          },
          "yaxis": {
           "title": {
            "standoff": 15
           }
          }
         }
        },
        "title": {
         "text": "Top 10 states with highest number of vaccinated individuals"
        },
        "width": 900,
        "xaxis": {
         "anchor": "y",
         "categoryarray": [
          "Maharashtra",
          "Uttar Pradesh",
          "Rajasthan",
          "Gujarat",
          "West Bengal",
          "Karnataka",
          "Madhya Pradesh",
          "Bihar",
          "Kerala",
          "Andhra Pradesh"
         ],
         "categoryorder": "array",
         "domain": [
          0,
          1
         ],
         "title": {
          "text": "State/UnionTerritory"
         }
        },
        "yaxis": {
         "anchor": "x",
         "domain": [
          0,
          1
         ],
         "title": {
          "text": "Doses"
         }
        }
       }
      }
     },
     "metadata": {},
     "output_type": "display_data"
    }
   ],
   "source": [
    "top10vaccinate=coviddf.pivot_table( index = 'State', values = 'Total Individuals Vaccinated', aggfunc = 'sum' ).sort_values(by = ['Total Individuals Vaccinated'],ascending=False).reset_index().head(10)\n",
    "fig = px.bar( top10vaccinate, x='State',y='Total Individuals Vaccinated', color ='State',width=900, height=550) \n",
    "fig.update_layout(\n",
    "    title=\"Top 10 states with highest number of vaccinated individuals\",\n",
    "    xaxis_title=\"State/UnionTerritory\",\n",
    "    yaxis_title=\"Doses\",\n",
    "    legend_title=\"State/UnionTerritory\",\n",
    "    font=dict(\n",
    "        size=14\n",
    "    )\n",
    ")\n",
    "fig.layout.template = 'presentation'\n",
    "fig.show()"
   ]
  },
  {
   "cell_type": "markdown",
   "metadata": {},
   "source": [
    "<b> Maharashtra has administered the highest number of vaccine doses to date, followed by UP, Rajasthan, Gujarat."
   ]
  },
  {
   "cell_type": "markdown",
   "metadata": {},
   "source": [
    "## <B> CONCLUSION\n",
    "We all can see how this COVID-19 pandemic has turned the nation upside down. There is an emergent loss of human life at one end and on the other hand, people are losing their jobs and businesses are shutting down. In such a tough time, what we all need to do is come together to fight against this pandemic. As they said, “Where there is Unity there is always Victory” – this is the power of staying united."
   ]
  }
 ],
 "metadata": {
  "kernelspec": {
   "display_name": "Python 3.9.7 ('base')",
   "language": "python",
   "name": "python3"
  },
  "language_info": {
   "codemirror_mode": {
    "name": "ipython",
    "version": 3
   },
   "file_extension": ".py",
   "mimetype": "text/x-python",
   "name": "python",
   "nbconvert_exporter": "python",
   "pygments_lexer": "ipython3",
   "version": "3.9.15"
  },
  "orig_nbformat": 4,
  "vscode": {
   "interpreter": {
    "hash": "c79b7ad1551a3a1301c544711332fa021a07e83fcacf5ad63ca5d8fc456c0c33"
   }
  }
 },
 "nbformat": 4,
 "nbformat_minor": 2
}
