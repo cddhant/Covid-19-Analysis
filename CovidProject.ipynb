{
 "cells": [
  {
   "cell_type": "markdown",
   "metadata": {},
   "source": [
    "<B> Introduction: </B>\n",
    "In this project, We will analyze Covid-19 data for India.\n",
    "\n",
    "<b> Performed By : </b> <br>\n",
    "Siddhant Pardeshi (337) <br>\n",
    "Soham Paranjape (336) <br>\n",
    "Tejas Mangalvedhekar (330) <br>\n",
    "Snehal Panchal (335) <br>\n",
    "\n",
    "<b> College Name : </b> Keystone School of Engineering, Pune\n",
    "\n",
    "<b> Department : </b>  Computer Engineering\n",
    "\n",
    "<b> DSBDA Mini Project </b>\n",
    "\n",
    "<b> Problem Statement : </b>  <br>\n",
    "Use the covid_vaccine_statewise.csv dataset from kaggle.com and perform the following analytics:<br>\n",
    "a. Describe the dataset <br>\n",
    "b. Number of persons state wise vaccinated for first dose in India <br>\n",
    "c. Number of persons state wise vaccinated for second dose in India<br>\n",
    "d. Number of Males vaccinated<br>\n",
    "e. Number of females vaccinated<br>"
   ]
  },
  {
   "cell_type": "markdown",
   "metadata": {},
   "source": [
    "### <b> Importing Libraries"
   ]
  },
  {
   "cell_type": "code",
   "execution_count": null,
   "metadata": {},
   "outputs": [],
   "source": [
    "import numpy as np\n",
    "import pandas as pd\n",
    "import matplotlib.pyplot as plt\n",
    "import seaborn as sns\n",
    "import datetime"
   ]
  },
  {
   "cell_type": "markdown",
   "metadata": {},
   "source": [
    "### <b> Importing Dataset"
   ]
  },
  {
   "cell_type": "code",
   "execution_count": null,
   "metadata": {},
   "outputs": [],
   "source": [
    "coviddf = pd.read_csv('covid_vaccine_statewise.csv')"
   ]
  },
  {
   "cell_type": "markdown",
   "metadata": {},
   "source": [
    "### <b> Describing Dataset"
   ]
  },
  {
   "cell_type": "code",
   "execution_count": null,
   "metadata": {},
   "outputs": [],
   "source": [
    "coviddf.head()"
   ]
  },
  {
   "cell_type": "code",
   "execution_count": null,
   "metadata": {},
   "outputs": [],
   "source": [
    "coviddf.columns"
   ]
  },
  {
   "cell_type": "code",
   "execution_count": null,
   "metadata": {},
   "outputs": [],
   "source": [
    "coviddf.info()"
   ]
  },
  {
   "cell_type": "markdown",
   "metadata": {},
   "source": [
    "### Dropping Unwanted Columns"
   ]
  },
  {
   "cell_type": "code",
   "execution_count": null,
   "metadata": {},
   "outputs": [],
   "source": [
    "coviddf.head()"
   ]
  },
  {
   "cell_type": "code",
   "execution_count": null,
   "metadata": {},
   "outputs": [],
   "source": [
    "coviddf = coviddf[[\"Updated On\", \"State\", \"First Dose Administered\", \"Second Dose Administered\", \"Male (Doses Administered)\", \"Female (Doses Administered)\", \"Total Individuals Vaccinated\"]]"
   ]
  },
  {
   "cell_type": "code",
   "execution_count": null,
   "metadata": {},
   "outputs": [],
   "source": [
    "coviddf"
   ]
  },
  {
   "cell_type": "code",
   "execution_count": null,
   "metadata": {},
   "outputs": [],
   "source": [
    "coviddf.columns"
   ]
  },
  {
   "cell_type": "markdown",
   "metadata": {},
   "source": [
    "### <b> Number of persons state wise vaccinated for first dose in India"
   ]
  },
  {
   "cell_type": "markdown",
   "metadata": {},
   "source": [
    "Total number of first doses:"
   ]
  },
  {
   "cell_type": "code",
   "execution_count": null,
   "metadata": {},
   "outputs": [],
   "source": [
    "coviddf[\"First Dose Administered\"].sum()"
   ]
  },
  {
   "cell_type": "markdown",
   "metadata": {},
   "source": [
    "State wise first doses:"
   ]
  },
  {
   "cell_type": "code",
   "execution_count": null,
   "metadata": {},
   "outputs": [],
   "source": [
    "dose1=coviddf.pivot_table( index = 'State', values = ['First Dose Administered'], aggfunc = 'sum' ).sort_values(by = ['First Dose Administered'],ascending=False).reset_index().head(10)\n",
    "dose1.style.background_gradient(cmap='twilight')"
   ]
  },
  {
   "cell_type": "markdown",
   "metadata": {},
   "source": [
    "### <b> Number of persons state wise vaccinated for second dose in India"
   ]
  },
  {
   "cell_type": "markdown",
   "metadata": {},
   "source": [
    "Total number of second doses:"
   ]
  },
  {
   "cell_type": "code",
   "execution_count": null,
   "metadata": {},
   "outputs": [],
   "source": [
    "coviddf[\"Second Dose Administered\"].sum()"
   ]
  },
  {
   "cell_type": "markdown",
   "metadata": {},
   "source": [
    "State wise second doses:"
   ]
  },
  {
   "cell_type": "code",
   "execution_count": null,
   "metadata": {},
   "outputs": [],
   "source": [
    "dose2=coviddf.pivot_table( index = 'State', values = ['Second Dose Administered'], aggfunc = 'sum' ).sort_values(by = ['Second Dose Administered'],ascending=False).reset_index().head(10)\n",
    "dose2.style.background_gradient(cmap='twilight')"
   ]
  },
  {
   "cell_type": "markdown",
   "metadata": {},
   "source": [
    "### <b> State wise First Dose VS Second Dose"
   ]
  },
  {
   "cell_type": "code",
   "execution_count": null,
   "metadata": {},
   "outputs": [],
   "source": [
    "doses=coviddf.pivot_table( index = 'State', values = ['First Dose Administered','Second Dose Administered'], aggfunc = 'sum' ).sort_values(by = ['First Dose Administered','Second Dose Administered'],ascending=False).reset_index().head(10)\n",
    "doses.style.background_gradient(cmap='twilight')"
   ]
  },
  {
   "cell_type": "code",
   "execution_count": null,
   "metadata": {},
   "outputs": [],
   "source": [
    "import plotly.express as px\n",
    "import plotly.graph_objects as go"
   ]
  },
  {
   "cell_type": "code",
   "execution_count": null,
   "metadata": {},
   "outputs": [],
   "source": [
    "fig=px.bar(doses,x='State',y=['First Dose Administered','Second Dose Administered'])\n",
    "fig.update_layout(\n",
    "    title=\"No. of doses Administered in top 10 states\",\n",
    "    xaxis_title=\"States\",\n",
    "    yaxis_title=\"Doses\",\n",
    "    font=dict(\n",
    "        size=14\n",
    "    )\n",
    ")\n",
    "fig.layout.template = 'presentation'\n",
    "fig.show()"
   ]
  },
  {
   "cell_type": "markdown",
   "metadata": {},
   "source": [
    "### <b> Number of Males vaccinated"
   ]
  },
  {
   "cell_type": "markdown",
   "metadata": {},
   "source": [
    "#### <b> Number of Males vaccinated"
   ]
  },
  {
   "cell_type": "code",
   "execution_count": null,
   "metadata": {},
   "outputs": [],
   "source": [
    "coviddf[\"Male (Doses Administered)\"].sum()"
   ]
  },
  {
   "cell_type": "markdown",
   "metadata": {},
   "source": [
    "### <b> Number of Females vaccinated"
   ]
  },
  {
   "cell_type": "code",
   "execution_count": null,
   "metadata": {},
   "outputs": [],
   "source": [
    "coviddf[\"Female (Doses Administered)\"].sum()"
   ]
  },
  {
   "cell_type": "code",
   "execution_count": null,
   "metadata": {},
   "outputs": [],
   "source": [
    "male = coviddf[\"Male (Doses Administered)\"].sum() \n",
    "female = coviddf[\"Female (Doses Administered)\"].sum()\n",
    "\n",
    "print(\"Number of Males vaccinated: \", male)\n",
    "print(\"Number of Females vaccinated: \", female, '\\n')\n",
    "print(\"Visualization\")\n",
    "\n",
    "fig = px.pie(values=[male,female], names=[\"Male Vaccinated\",\"Female Vaccinated\"],\n",
    "             width=800,height=500)\n",
    "fig.update_layout(\n",
    "    title=\"Gender ratio (Doses Administered)\",\n",
    "    legend_title=\"Gender\",\n",
    "    font=dict(\n",
    "        size=14\n",
    "    )\n",
    ")\n",
    "fig.layout.template = 'presentation'\n",
    "fig.update_traces(textposition='inside', textinfo='percent+label')\n",
    "fig.show()"
   ]
  },
  {
   "cell_type": "markdown",
   "metadata": {},
   "source": [
    "### <b> Top 10 states with highest number of Vaccination"
   ]
  },
  {
   "cell_type": "code",
   "execution_count": null,
   "metadata": {},
   "outputs": [],
   "source": [
    "top10vaccinate=coviddf.pivot_table( index = 'State', values = 'Total Individuals Vaccinated', aggfunc = 'sum' ).sort_values(by = ['Total Individuals Vaccinated'],ascending=False).reset_index().head(10)\n",
    "fig = px.bar( top10vaccinate, x='State',y='Total Individuals Vaccinated', color ='State',width=900, height=550) \n",
    "fig.update_layout(\n",
    "    title=\"Top 10 states with highest number of vaccinated individuals\",\n",
    "    xaxis_title=\"State/UnionTerritory\",\n",
    "    yaxis_title=\"Doses\",\n",
    "    legend_title=\"State/UnionTerritory\",\n",
    "    font=dict(\n",
    "        size=14\n",
    "    )\n",
    ")\n",
    "fig.layout.template = 'presentation'\n",
    "fig.show()"
   ]
  },
  {
   "cell_type": "markdown",
   "metadata": {},
   "source": [
    "<b> Maharashtra has administered the highest number of vaccine doses to date, followed by UP, Rajasthan, Gujarat."
   ]
  },
  {
   "cell_type": "markdown",
   "metadata": {},
   "source": [
    "## <B> CONCLUSION\n",
    "We all can see how this COVID-19 pandemic has turned the nation upside down. There is an emergent loss of human life at one end and on the other hand, people are losing their jobs and businesses are shutting down. In such a tough time, what we all need to do is come together to fight against this pandemic. As they said, “Where there is Unity there is always Victory” – this is the power of staying united."
   ]
  }
 ],
 "metadata": {
  "kernelspec": {
   "display_name": "Python 3.9.7 ('base')",
   "language": "python",
   "name": "python3"
  },
  "language_info": {
   "codemirror_mode": {
    "name": "ipython",
    "version": 3
   },
   "file_extension": ".py",
   "mimetype": "text/x-python",
   "name": "python",
   "nbconvert_exporter": "python",
   "pygments_lexer": "ipython3",
   "version": "3.9.7"
  },
  "orig_nbformat": 4,
  "vscode": {
   "interpreter": {
    "hash": "c79b7ad1551a3a1301c544711332fa021a07e83fcacf5ad63ca5d8fc456c0c33"
   }
  }
 },
 "nbformat": 4,
 "nbformat_minor": 2
}
